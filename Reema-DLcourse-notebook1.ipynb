{
 "cells": [
  {
   "cell_type": "code",
   "execution_count": 2,
   "metadata": {},
   "outputs": [
    {
     "name": "stdout",
     "output_type": "stream",
     "text": [
      "It took me forever to figure out how to install Jupyter on my Macbook, but glad to have finally figured it out! :)\n"
     ]
    }
   ],
   "source": [
    "print(\"It took me forever to figure out how to install Jupyter on my Macbook, but glad to have finally figured it out! :)\")"
   ]
  },
  {
   "cell_type": "code",
   "execution_count": 20,
   "metadata": {},
   "outputs": [
    {
     "name": "stdout",
     "output_type": "stream",
     "text": [
      "a\n",
      "a\n",
      "a\n",
      "a\n",
      "a\n",
      "a\n",
      "a\n",
      "a\n",
      "a\n",
      "a\n"
     ]
    }
   ],
   "source": [
    "for i in range (10): \n",
    "    print (\"a\")"
   ]
  },
  {
   "cell_type": "code",
   "execution_count": 26,
   "metadata": {},
   "outputs": [
    {
     "name": "stdout",
     "output_type": "stream",
     "text": [
      "How many years of coding experience do you have? none\n",
      "Even though you have none year(s) of experience, do you think you may need to brush up on your coding knowledge: Yes or No? yes\n",
      "Great!\n"
     ]
    }
   ],
   "source": [
    "#Asking about coding experience for the course\n",
    "user_answer1 = (input(\"How many years of coding experience do you have? \"))\n",
    "user_answer2 = str(input(\"Even though you have \" + str(user_answer1) + \" year(s) of experience, do you think you may need to brush up on your coding knowledge: Yes or No? \"))\n",
    "if user_answer2 == \"Yes\":\n",
    "    print (\"Good luck!\")\n",
    "else: \n",
    "    print (\"Great!\")"
   ]
  },
  {
   "cell_type": "code",
   "execution_count": null,
   "metadata": {},
   "outputs": [],
   "source": []
  }
 ],
 "metadata": {
  "kernelspec": {
   "display_name": "Python 3",
   "language": "python",
   "name": "python3"
  },
  "language_info": {
   "codemirror_mode": {
    "name": "ipython",
    "version": 3
   },
   "file_extension": ".py",
   "mimetype": "text/x-python",
   "name": "python",
   "nbconvert_exporter": "python",
   "pygments_lexer": "ipython3",
   "version": "3.8.1"
  }
 },
 "nbformat": 4,
 "nbformat_minor": 4
}
